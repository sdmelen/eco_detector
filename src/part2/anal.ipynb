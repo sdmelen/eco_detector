{
 "cells": [
  {
   "cell_type": "code",
   "execution_count": 17,
   "id": "initial_id",
   "metadata": {
    "collapsed": true,
    "ExecuteTime": {
     "end_time": "2024-10-16T15:21:06.454313Z",
     "start_time": "2024-10-16T15:21:06.451380Z"
    }
   },
   "outputs": [],
   "source": [
    "import pandas as pd"
   ]
  },
  {
   "cell_type": "code",
   "outputs": [
    {
     "data": {
      "text/plain": "     Станция  Число часов  Количество точек Период превышения &quot;С&quot;  \\\n0  Шаболовка            0                 1                18/09/2024 10:00   \n1  Шаболовка            1                 4                18/09/2024 08:20   \n2    Люблино            0                 1                18/09/2024 09:20   \n3    Люблино            0                 2                18/09/2024 08:20   \n4    Люблино            0                 2                18/09/2024 21:20   \n\n  Период превышения &quot;ПО&quot;  \n0                 18/09/2024 10:00  \n1                 18/09/2024 09:20  \n2                 18/09/2024 09:20  \n3                 18/09/2024 08:40  \n4                 18/09/2024 21:40  ",
      "text/html": "<div>\n<style scoped>\n    .dataframe tbody tr th:only-of-type {\n        vertical-align: middle;\n    }\n\n    .dataframe tbody tr th {\n        vertical-align: top;\n    }\n\n    .dataframe thead th {\n        text-align: right;\n    }\n</style>\n<table border=\"1\" class=\"dataframe\">\n  <thead>\n    <tr style=\"text-align: right;\">\n      <th></th>\n      <th>Станция</th>\n      <th>Число часов</th>\n      <th>Количество точек</th>\n      <th>Период превышения &amp;quot;С&amp;quot;</th>\n      <th>Период превышения &amp;quot;ПО&amp;quot;</th>\n    </tr>\n  </thead>\n  <tbody>\n    <tr>\n      <th>0</th>\n      <td>Шаболовка</td>\n      <td>0</td>\n      <td>1</td>\n      <td>18/09/2024 10:00</td>\n      <td>18/09/2024 10:00</td>\n    </tr>\n    <tr>\n      <th>1</th>\n      <td>Шаболовка</td>\n      <td>1</td>\n      <td>4</td>\n      <td>18/09/2024 08:20</td>\n      <td>18/09/2024 09:20</td>\n    </tr>\n    <tr>\n      <th>2</th>\n      <td>Люблино</td>\n      <td>0</td>\n      <td>1</td>\n      <td>18/09/2024 09:20</td>\n      <td>18/09/2024 09:20</td>\n    </tr>\n    <tr>\n      <th>3</th>\n      <td>Люблино</td>\n      <td>0</td>\n      <td>2</td>\n      <td>18/09/2024 08:20</td>\n      <td>18/09/2024 08:40</td>\n    </tr>\n    <tr>\n      <th>4</th>\n      <td>Люблино</td>\n      <td>0</td>\n      <td>2</td>\n      <td>18/09/2024 21:20</td>\n      <td>18/09/2024 21:40</td>\n    </tr>\n  </tbody>\n</table>\n</div>"
     },
     "execution_count": 18,
     "metadata": {},
     "output_type": "execute_result"
    }
   ],
   "source": [
    "df = pd.read_excel('H2S_период.xlsx')\n",
    "df.head()"
   ],
   "metadata": {
    "collapsed": false,
    "ExecuteTime": {
     "end_time": "2024-10-16T15:21:06.477241Z",
     "start_time": "2024-10-16T15:21:06.457363Z"
    }
   },
   "id": "5bbc051e60095487",
   "execution_count": 18
  },
  {
   "cell_type": "code",
   "outputs": [
    {
     "data": {
      "text/plain": "0      1\n1      4\n2      1\n3      2\n4      2\n5      9\n6      1\n7      1\n8      2\n9     25\n10     1\n11     5\n12     4\n13     4\n14     8\n15    25\n16     4\n17     1\n18     4\n19     2\n20     2\n21     1\n22    10\n23     1\n24     1\n25     1\n26     2\n27     3\n28     3\n29     3\n30     5\n31    16\n32     2\n33    32\n34     2\n35     4\n36    22\n37     1\n38     3\n39     6\nName: Количество точек, dtype: int64"
     },
     "execution_count": 19,
     "metadata": {},
     "output_type": "execute_result"
    }
   ],
   "source": [
    "points = df['Количество точек']\n",
    "points"
   ],
   "metadata": {
    "collapsed": false,
    "ExecuteTime": {
     "end_time": "2024-10-16T15:21:06.483494Z",
     "start_time": "2024-10-16T15:21:06.479071Z"
    }
   },
   "id": "77deeb066cda0878",
   "execution_count": 19
  },
  {
   "cell_type": "code",
   "outputs": [
    {
     "data": {
      "text/plain": "32"
     },
     "execution_count": 20,
     "metadata": {},
     "output_type": "execute_result"
    }
   ],
   "source": [
    "max(points)"
   ],
   "metadata": {
    "collapsed": false,
    "ExecuteTime": {
     "end_time": "2024-10-16T15:21:06.489637Z",
     "start_time": "2024-10-16T15:21:06.484706Z"
    }
   },
   "id": "fbdbda4b02a40388",
   "execution_count": 20
  },
  {
   "cell_type": "code",
   "outputs": [],
   "source": [],
   "metadata": {
    "collapsed": false,
    "ExecuteTime": {
     "end_time": "2024-10-16T15:21:06.494381Z",
     "start_time": "2024-10-16T15:21:06.492703Z"
    }
   },
   "id": "ffae87a002ebb1b4",
   "execution_count": 20
  },
  {
   "cell_type": "code",
   "outputs": [
    {
     "data": {
      "text/plain": "                    Станция  Число часов  Количество точек  \\\n0                 Шаболовка            0                 1   \n1                 Шаболовка            1                 4   \n2                   Люблино            0                 1   \n3                   Люблино            0                 2   \n4                   Люблино            0                 2   \n5                   Люблино            2                 9   \n6              Долгопрудная            0                 1   \n7              Долгопрудная            0                 1   \n8              Долгопрудная            0                 2   \n9              Долгопрудная            8                25   \n10                Черемушки            0                 1   \n11                Хамовники            1                 5   \n12               Головачева            1                 4   \n13                Гурьянова            1                 4   \n14                Гурьянова            2                 8   \n15                Гурьянова            8                25   \n16          М1-2 (Жулебино)            1                 4   \n17               Новокосино            0                 1   \n18               Новокосино            1                 4   \n19     МКАД 105 км (восток)            0                 2   \n20     МКАД 105 км (восток)            0                 2   \n21   М1-5 (Балашиха-Речная)            0                 1   \n22   М1-5 (Балашиха-Речная)            3                10   \n23                Базовская            0                 1   \n24                Базовская            0                 1   \n25                Базовская            0                 1   \n26                Базовская            0                 2   \n27  МО-Видное-Зеленые Аллеи            0                 3   \n28       МО-Видное-Северный            0                 3   \n29       МО-Видное-Северный            0                 3   \n30       МО-Видное-Северный            1                 5   \n31       МО-Видное-Северный            5                16   \n32   МО-Люберцы-Вертолетная            0                 2   \n33   МО-Люберцы-Вертолетная           10                32   \n34    МО-Балашиха-Колхозная            0                 2   \n35               Некрасовка            1                 4   \n36               Некрасовка            7                22   \n37           МО-Дзержинский            0                 1   \n38           МО-Дзержинский            0                 3   \n39           МО-Дзержинский            1                 6   \n\n   Период превышения &quot;С&quot; Период превышения &quot;ПО&quot;  \n0                 18/09/2024 10:00                 18/09/2024 10:00  \n1                 18/09/2024 08:20                 18/09/2024 09:20  \n2                 18/09/2024 09:20                 18/09/2024 09:20  \n3                 18/09/2024 08:20                 18/09/2024 08:40  \n4                 18/09/2024 21:20                 18/09/2024 21:40  \n5                 18/09/2024 22:40                 19/09/2024 01:20  \n6                 19/09/2024 05:40                 19/09/2024 05:40  \n7                 19/09/2024 06:20                 19/09/2024 06:20  \n8                 18/09/2024 08:20                 18/09/2024 08:40  \n9                 18/09/2024 20:00                 19/09/2024 04:00  \n10                18/09/2024 08:40                 18/09/2024 08:40  \n11                18/09/2024 08:20                 18/09/2024 09:40  \n12                18/09/2024 08:20                 18/09/2024 09:20  \n13                18/09/2024 08:20                 18/09/2024 09:20  \n14                19/09/2024 04:40                 19/09/2024 07:00  \n15                18/09/2024 20:00                 19/09/2024 04:00  \n16                18/09/2024 08:20                 18/09/2024 09:20  \n17                18/09/2024 08:40                 18/09/2024 08:40  \n18                19/09/2024 03:00                 19/09/2024 04:00  \n19                18/09/2024 20:40                 18/09/2024 21:00  \n20                19/09/2024 03:00                 19/09/2024 03:20  \n21                18/09/2024 23:40                 18/09/2024 23:40  \n22                19/09/2024 01:00                 19/09/2024 04:00  \n23                18/09/2024 21:40                 18/09/2024 21:40  \n24                19/09/2024 00:20                 19/09/2024 00:20  \n25                19/09/2024 01:00                 19/09/2024 01:00  \n26                18/09/2024 08:20                 18/09/2024 08:40  \n27                18/09/2024 09:00                 18/09/2024 09:40  \n28                19/09/2024 02:20                 19/09/2024 03:00  \n29                19/09/2024 03:40                 19/09/2024 04:20  \n30                18/09/2024 08:20                 18/09/2024 09:40  \n31                18/09/2024 20:00                 19/09/2024 01:00  \n32                18/09/2024 08:20                 18/09/2024 08:40  \n33                18/09/2024 20:40                 19/09/2024 07:00  \n34                18/09/2024 08:20                 18/09/2024 08:40  \n35                18/09/2024 09:20                 18/09/2024 10:20  \n36                18/09/2024 21:00                 19/09/2024 04:00  \n37                19/09/2024 01:20                 19/09/2024 01:20  \n38                18/09/2024 21:20                 18/09/2024 22:00  \n39                18/09/2024 08:40                 18/09/2024 10:20  ",
      "text/html": "<div>\n<style scoped>\n    .dataframe tbody tr th:only-of-type {\n        vertical-align: middle;\n    }\n\n    .dataframe tbody tr th {\n        vertical-align: top;\n    }\n\n    .dataframe thead th {\n        text-align: right;\n    }\n</style>\n<table border=\"1\" class=\"dataframe\">\n  <thead>\n    <tr style=\"text-align: right;\">\n      <th></th>\n      <th>Станция</th>\n      <th>Число часов</th>\n      <th>Количество точек</th>\n      <th>Период превышения &amp;quot;С&amp;quot;</th>\n      <th>Период превышения &amp;quot;ПО&amp;quot;</th>\n    </tr>\n  </thead>\n  <tbody>\n    <tr>\n      <th>0</th>\n      <td>Шаболовка</td>\n      <td>0</td>\n      <td>1</td>\n      <td>18/09/2024 10:00</td>\n      <td>18/09/2024 10:00</td>\n    </tr>\n    <tr>\n      <th>1</th>\n      <td>Шаболовка</td>\n      <td>1</td>\n      <td>4</td>\n      <td>18/09/2024 08:20</td>\n      <td>18/09/2024 09:20</td>\n    </tr>\n    <tr>\n      <th>2</th>\n      <td>Люблино</td>\n      <td>0</td>\n      <td>1</td>\n      <td>18/09/2024 09:20</td>\n      <td>18/09/2024 09:20</td>\n    </tr>\n    <tr>\n      <th>3</th>\n      <td>Люблино</td>\n      <td>0</td>\n      <td>2</td>\n      <td>18/09/2024 08:20</td>\n      <td>18/09/2024 08:40</td>\n    </tr>\n    <tr>\n      <th>4</th>\n      <td>Люблино</td>\n      <td>0</td>\n      <td>2</td>\n      <td>18/09/2024 21:20</td>\n      <td>18/09/2024 21:40</td>\n    </tr>\n    <tr>\n      <th>5</th>\n      <td>Люблино</td>\n      <td>2</td>\n      <td>9</td>\n      <td>18/09/2024 22:40</td>\n      <td>19/09/2024 01:20</td>\n    </tr>\n    <tr>\n      <th>6</th>\n      <td>Долгопрудная</td>\n      <td>0</td>\n      <td>1</td>\n      <td>19/09/2024 05:40</td>\n      <td>19/09/2024 05:40</td>\n    </tr>\n    <tr>\n      <th>7</th>\n      <td>Долгопрудная</td>\n      <td>0</td>\n      <td>1</td>\n      <td>19/09/2024 06:20</td>\n      <td>19/09/2024 06:20</td>\n    </tr>\n    <tr>\n      <th>8</th>\n      <td>Долгопрудная</td>\n      <td>0</td>\n      <td>2</td>\n      <td>18/09/2024 08:20</td>\n      <td>18/09/2024 08:40</td>\n    </tr>\n    <tr>\n      <th>9</th>\n      <td>Долгопрудная</td>\n      <td>8</td>\n      <td>25</td>\n      <td>18/09/2024 20:00</td>\n      <td>19/09/2024 04:00</td>\n    </tr>\n    <tr>\n      <th>10</th>\n      <td>Черемушки</td>\n      <td>0</td>\n      <td>1</td>\n      <td>18/09/2024 08:40</td>\n      <td>18/09/2024 08:40</td>\n    </tr>\n    <tr>\n      <th>11</th>\n      <td>Хамовники</td>\n      <td>1</td>\n      <td>5</td>\n      <td>18/09/2024 08:20</td>\n      <td>18/09/2024 09:40</td>\n    </tr>\n    <tr>\n      <th>12</th>\n      <td>Головачева</td>\n      <td>1</td>\n      <td>4</td>\n      <td>18/09/2024 08:20</td>\n      <td>18/09/2024 09:20</td>\n    </tr>\n    <tr>\n      <th>13</th>\n      <td>Гурьянова</td>\n      <td>1</td>\n      <td>4</td>\n      <td>18/09/2024 08:20</td>\n      <td>18/09/2024 09:20</td>\n    </tr>\n    <tr>\n      <th>14</th>\n      <td>Гурьянова</td>\n      <td>2</td>\n      <td>8</td>\n      <td>19/09/2024 04:40</td>\n      <td>19/09/2024 07:00</td>\n    </tr>\n    <tr>\n      <th>15</th>\n      <td>Гурьянова</td>\n      <td>8</td>\n      <td>25</td>\n      <td>18/09/2024 20:00</td>\n      <td>19/09/2024 04:00</td>\n    </tr>\n    <tr>\n      <th>16</th>\n      <td>М1-2 (Жулебино)</td>\n      <td>1</td>\n      <td>4</td>\n      <td>18/09/2024 08:20</td>\n      <td>18/09/2024 09:20</td>\n    </tr>\n    <tr>\n      <th>17</th>\n      <td>Новокосино</td>\n      <td>0</td>\n      <td>1</td>\n      <td>18/09/2024 08:40</td>\n      <td>18/09/2024 08:40</td>\n    </tr>\n    <tr>\n      <th>18</th>\n      <td>Новокосино</td>\n      <td>1</td>\n      <td>4</td>\n      <td>19/09/2024 03:00</td>\n      <td>19/09/2024 04:00</td>\n    </tr>\n    <tr>\n      <th>19</th>\n      <td>МКАД 105 км (восток)</td>\n      <td>0</td>\n      <td>2</td>\n      <td>18/09/2024 20:40</td>\n      <td>18/09/2024 21:00</td>\n    </tr>\n    <tr>\n      <th>20</th>\n      <td>МКАД 105 км (восток)</td>\n      <td>0</td>\n      <td>2</td>\n      <td>19/09/2024 03:00</td>\n      <td>19/09/2024 03:20</td>\n    </tr>\n    <tr>\n      <th>21</th>\n      <td>М1-5 (Балашиха-Речная)</td>\n      <td>0</td>\n      <td>1</td>\n      <td>18/09/2024 23:40</td>\n      <td>18/09/2024 23:40</td>\n    </tr>\n    <tr>\n      <th>22</th>\n      <td>М1-5 (Балашиха-Речная)</td>\n      <td>3</td>\n      <td>10</td>\n      <td>19/09/2024 01:00</td>\n      <td>19/09/2024 04:00</td>\n    </tr>\n    <tr>\n      <th>23</th>\n      <td>Базовская</td>\n      <td>0</td>\n      <td>1</td>\n      <td>18/09/2024 21:40</td>\n      <td>18/09/2024 21:40</td>\n    </tr>\n    <tr>\n      <th>24</th>\n      <td>Базовская</td>\n      <td>0</td>\n      <td>1</td>\n      <td>19/09/2024 00:20</td>\n      <td>19/09/2024 00:20</td>\n    </tr>\n    <tr>\n      <th>25</th>\n      <td>Базовская</td>\n      <td>0</td>\n      <td>1</td>\n      <td>19/09/2024 01:00</td>\n      <td>19/09/2024 01:00</td>\n    </tr>\n    <tr>\n      <th>26</th>\n      <td>Базовская</td>\n      <td>0</td>\n      <td>2</td>\n      <td>18/09/2024 08:20</td>\n      <td>18/09/2024 08:40</td>\n    </tr>\n    <tr>\n      <th>27</th>\n      <td>МО-Видное-Зеленые Аллеи</td>\n      <td>0</td>\n      <td>3</td>\n      <td>18/09/2024 09:00</td>\n      <td>18/09/2024 09:40</td>\n    </tr>\n    <tr>\n      <th>28</th>\n      <td>МО-Видное-Северный</td>\n      <td>0</td>\n      <td>3</td>\n      <td>19/09/2024 02:20</td>\n      <td>19/09/2024 03:00</td>\n    </tr>\n    <tr>\n      <th>29</th>\n      <td>МО-Видное-Северный</td>\n      <td>0</td>\n      <td>3</td>\n      <td>19/09/2024 03:40</td>\n      <td>19/09/2024 04:20</td>\n    </tr>\n    <tr>\n      <th>30</th>\n      <td>МО-Видное-Северный</td>\n      <td>1</td>\n      <td>5</td>\n      <td>18/09/2024 08:20</td>\n      <td>18/09/2024 09:40</td>\n    </tr>\n    <tr>\n      <th>31</th>\n      <td>МО-Видное-Северный</td>\n      <td>5</td>\n      <td>16</td>\n      <td>18/09/2024 20:00</td>\n      <td>19/09/2024 01:00</td>\n    </tr>\n    <tr>\n      <th>32</th>\n      <td>МО-Люберцы-Вертолетная</td>\n      <td>0</td>\n      <td>2</td>\n      <td>18/09/2024 08:20</td>\n      <td>18/09/2024 08:40</td>\n    </tr>\n    <tr>\n      <th>33</th>\n      <td>МО-Люберцы-Вертолетная</td>\n      <td>10</td>\n      <td>32</td>\n      <td>18/09/2024 20:40</td>\n      <td>19/09/2024 07:00</td>\n    </tr>\n    <tr>\n      <th>34</th>\n      <td>МО-Балашиха-Колхозная</td>\n      <td>0</td>\n      <td>2</td>\n      <td>18/09/2024 08:20</td>\n      <td>18/09/2024 08:40</td>\n    </tr>\n    <tr>\n      <th>35</th>\n      <td>Некрасовка</td>\n      <td>1</td>\n      <td>4</td>\n      <td>18/09/2024 09:20</td>\n      <td>18/09/2024 10:20</td>\n    </tr>\n    <tr>\n      <th>36</th>\n      <td>Некрасовка</td>\n      <td>7</td>\n      <td>22</td>\n      <td>18/09/2024 21:00</td>\n      <td>19/09/2024 04:00</td>\n    </tr>\n    <tr>\n      <th>37</th>\n      <td>МО-Дзержинский</td>\n      <td>0</td>\n      <td>1</td>\n      <td>19/09/2024 01:20</td>\n      <td>19/09/2024 01:20</td>\n    </tr>\n    <tr>\n      <th>38</th>\n      <td>МО-Дзержинский</td>\n      <td>0</td>\n      <td>3</td>\n      <td>18/09/2024 21:20</td>\n      <td>18/09/2024 22:00</td>\n    </tr>\n    <tr>\n      <th>39</th>\n      <td>МО-Дзержинский</td>\n      <td>1</td>\n      <td>6</td>\n      <td>18/09/2024 08:40</td>\n      <td>18/09/2024 10:20</td>\n    </tr>\n  </tbody>\n</table>\n</div>"
     },
     "execution_count": 21,
     "metadata": {},
     "output_type": "execute_result"
    }
   ],
   "source": [
    "df"
   ],
   "metadata": {
    "collapsed": false,
    "ExecuteTime": {
     "end_time": "2024-10-16T15:21:06.502068Z",
     "start_time": "2024-10-16T15:21:06.495647Z"
    }
   },
   "id": "82e5ed6f97de93cf",
   "execution_count": 21
  },
  {
   "cell_type": "code",
   "outputs": [],
   "source": [],
   "metadata": {
    "collapsed": false,
    "ExecuteTime": {
     "end_time": "2024-10-16T15:21:06.505235Z",
     "start_time": "2024-10-16T15:21:06.503728Z"
    }
   },
   "id": "e1c20f27f7e0fda9",
   "execution_count": 21
  }
 ],
 "metadata": {
  "kernelspec": {
   "display_name": "Python 3",
   "language": "python",
   "name": "python3"
  },
  "language_info": {
   "codemirror_mode": {
    "name": "ipython",
    "version": 2
   },
   "file_extension": ".py",
   "mimetype": "text/x-python",
   "name": "python",
   "nbconvert_exporter": "python",
   "pygments_lexer": "ipython2",
   "version": "2.7.6"
  }
 },
 "nbformat": 4,
 "nbformat_minor": 5
}
